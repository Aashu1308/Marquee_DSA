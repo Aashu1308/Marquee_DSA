{
 "cells": [
  {
   "cell_type": "markdown",
   "metadata": {},
   "source": [
    "## 2 Pointer approach"
   ]
  },
  {
   "cell_type": "markdown",
   "metadata": {},
   "source": [
    "### 2 sum"
   ]
  },
  {
   "cell_type": "code",
   "execution_count": 21,
   "metadata": {},
   "outputs": [],
   "source": [
    "def two_sum(l,n):\n",
    "    head = 0\n",
    "    tail = -1\n",
    "    k,j = l[head],l[tail]\n",
    "    while k<=j:\n",
    "        k,j = l[head],l[tail]\n",
    "        if k+j==n:\n",
    "            return [k,j]\n",
    "        else:\n",
    "            if k+j<n:\n",
    "                head+=1\n",
    "            else:\n",
    "                tail-=1\n",
    "    return False"
   ]
  },
  {
   "cell_type": "code",
   "execution_count": 22,
   "metadata": {},
   "outputs": [
    {
     "name": "stdout",
     "output_type": "stream",
     "text": [
      "[2, 7]\n"
     ]
    }
   ],
   "source": [
    "print(two_sum([-2, 2, 7, 15], 9))"
   ]
  },
  {
   "cell_type": "markdown",
   "metadata": {},
   "source": [
    "### Palindrome"
   ]
  },
  {
   "cell_type": "code",
   "execution_count": 37,
   "metadata": {},
   "outputs": [],
   "source": [
    "import re\n",
    "def palindrome(s):\n",
    "    s=s.lower()\n",
    "    s=re.sub(r'\\s+', '', s)\n",
    "    head=0\n",
    "    tail=len(s)-1\n",
    "    f,e = s[head],s[tail]\n",
    "    while f==e:\n",
    "        head+=1\n",
    "        tail-=1\n",
    "        if head<tail:\n",
    "            return True\n",
    "    return False\n"
   ]
  },
  {
   "cell_type": "code",
   "execution_count": 102,
   "metadata": {},
   "outputs": [
    {
     "name": "stdout",
     "output_type": "stream",
     "text": [
      "True\n"
     ]
    }
   ],
   "source": [
    "print(palindrome(\"AaAa aA\"))"
   ]
  },
  {
   "cell_type": "markdown",
   "metadata": {},
   "source": [
    "### Merge 2 sorted lists"
   ]
  },
  {
   "cell_type": "code",
   "execution_count": 100,
   "metadata": {},
   "outputs": [],
   "source": [
    "def merge(l1,l2):\n",
    "    if l1 == []:\n",
    "        return l2\n",
    "    if l2 == []:\n",
    "        return l1\n",
    "    a=0\n",
    "    b=0\n",
    "    l3=[]\n",
    "    while a<len(l1) and b<len(l2):\n",
    "        if l1[a]<l2[b]:\n",
    "            l3.append(l1[a])\n",
    "            a+=1\n",
    "        else:\n",
    "            l3.append(l2[b])\n",
    "            b+=1\n",
    "    if a==len(l1):\n",
    "        l3+=l2[b:]\n",
    "    else:\n",
    "        print(\"b\")\n",
    "        l3+=l1[a:]\n",
    "    return l3\n"
   ]
  },
  {
   "cell_type": "code",
   "execution_count": 101,
   "metadata": {},
   "outputs": [
    {
     "name": "stdout",
     "output_type": "stream",
     "text": [
      "[1, 2, 3, 4, 5, 6]\n"
     ]
    }
   ],
   "source": [
    "print(merge([1,3,5],[2,4,6]))"
   ]
  },
  {
   "cell_type": "markdown",
   "metadata": {},
   "source": [
    "### Identify Cycles in LL"
   ]
  },
  {
   "cell_type": "code",
   "execution_count": 154,
   "metadata": {},
   "outputs": [],
   "source": [
    "class Node:\n",
    "    def __init__(self,data):\n",
    "        self.data=data\n",
    "        self.next=None\n",
    "\n",
    "class SingleLL:\n",
    "    def __init__(self):\n",
    "        self.head=None\n",
    "    \n",
    "    def insert_at_start(self,data):\n",
    "        new_node=Node(data)\n",
    "        new_node.next=self.head\n",
    "        self.head = new_node\n",
    "\n",
    "    \n",
    "    def induce_cycle(self):\n",
    "        if self.head is None:\n",
    "            return\n",
    "        temp=self.head\n",
    "        while temp.next:\n",
    "            temp=temp.next\n",
    "        temp.next = self.head\n",
    "        print(\"cycle created at:\",temp.data,\"->\",self.head.data)\n",
    "    \n",
    "    def display(self):\n",
    "        print(\"head is\",self.head.data)\n",
    "        temp=self.head\n",
    "        if temp:\n",
    "            while(temp):\n",
    "                print(temp.data,\"->\",end=\" \")\n",
    "                temp=temp.next\n",
    "            print(\"End\",end=\" \")\n",
    "        else:\n",
    "            print(\"List is empty\")\n",
    "    \n",
    "    def check_cycle(self):\n",
    "        slow=self.head\n",
    "        fast=self.head\n",
    "        while(slow and fast and fast.next):\n",
    "            slow=slow.next\n",
    "            fast=fast.next.next\n",
    "            if slow==fast:\n",
    "                return True\n",
    "        return False"
   ]
  },
  {
   "cell_type": "code",
   "execution_count": 157,
   "metadata": {},
   "outputs": [
    {
     "name": "stdout",
     "output_type": "stream",
     "text": [
      "insert at front\n",
      "head is 1\n",
      "1 -> End \n",
      "head is 2\n",
      "2 -> 1 -> End \n",
      "head is 3\n",
      "3 -> 2 -> 1 -> End \n",
      "cycle created at: 1 -> 3\n",
      "detected, sad\n"
     ]
    }
   ],
   "source": [
    "s = SingleLL()\n",
    "print(\"insert at front\")\n",
    "for i in range(3):\n",
    "    s.insert_at_start(int(input(\"front insert\")))\n",
    "    s.display()\n",
    "    print()\n",
    "s.induce_cycle()\n",
    "# print(s.check_cycle())\n",
    "if not s.check_cycle():\n",
    "    s.display()\n",
    "    print()\n",
    "else:\n",
    "    print(\"detected, sad\")\n"
   ]
  },
  {
   "cell_type": "markdown",
   "metadata": {},
   "source": [
    "## Sliding Window"
   ]
  },
  {
   "cell_type": "markdown",
   "metadata": {},
   "source": [
    "### Max subarray sum"
   ]
  },
  {
   "cell_type": "code",
   "execution_count": 170,
   "metadata": {},
   "outputs": [],
   "source": [
    "def max_sub_sum(nums,n):\n",
    "    l=0\n",
    "    r=n\n",
    "    max = 0\n",
    "    while r<=len(nums):\n",
    "        print(\"left right:\",l,r)\n",
    "        print(nums[l:r])\n",
    "        s=sum(nums[l:r])\n",
    "        if s>max:\n",
    "            max=s\n",
    "        l+=1\n",
    "        r+=1\n",
    "    return max"
   ]
  },
  {
   "cell_type": "code",
   "execution_count": 171,
   "metadata": {},
   "outputs": [
    {
     "name": "stdout",
     "output_type": "stream",
     "text": [
      "left right: 0 3\n",
      "[-2, 2, 7]\n",
      "left right: 1 4\n",
      "[2, 7, 15]\n",
      "24\n"
     ]
    }
   ],
   "source": [
    "print(max_sub_sum([-2, 2, 7, 15], 3))"
   ]
  },
  {
   "cell_type": "markdown",
   "metadata": {},
   "source": [
    "### Unique character substrings"
   ]
  },
  {
   "cell_type": "code",
   "execution_count": 179,
   "metadata": {},
   "outputs": [],
   "source": [
    "def good_string(s,n):\n",
    "    l=0\n",
    "    r=n\n",
    "    while r<=len(s):\n",
    "        ls=[]\n",
    "        for i in s[l:r]:\n",
    "            if i not in ls:\n",
    "                ls.append(i)\n",
    "        if len(ls)==n:\n",
    "            print(\"good\")\n",
    "            print(s[l:r])\n",
    "        l+=1\n",
    "        r+=1"
   ]
  },
  {
   "cell_type": "code",
   "execution_count": 180,
   "metadata": {},
   "outputs": [
    {
     "name": "stdout",
     "output_type": "stream",
     "text": [
      "good\n",
      "abc\n",
      "None\n"
     ]
    }
   ],
   "source": [
    "print(good_string(\"abcc\",3))"
   ]
  },
  {
   "cell_type": "markdown",
   "metadata": {},
   "source": [
    "### Palindromic substring"
   ]
  },
  {
   "cell_type": "code",
   "execution_count": 184,
   "metadata": {},
   "outputs": [],
   "source": [
    "def palindrome_ss(s,n):\n",
    "    l=0\n",
    "    r=n\n",
    "    while r <= len(s):\n",
    "        if s[l:r]==s[l:r][::-1]:\n",
    "            print(s[l:r])\n",
    "        l+=1\n",
    "        r+=1"
   ]
  },
  {
   "cell_type": "code",
   "execution_count": 185,
   "metadata": {},
   "outputs": [
    {
     "name": "stdout",
     "output_type": "stream",
     "text": [
      "madam\n",
      "None\n"
     ]
    }
   ],
   "source": [
    "print(palindrome_ss(\"ismadam\",5))"
   ]
  },
  {
   "cell_type": "markdown",
   "metadata": {},
   "source": [
    "### Max subarray avg"
   ]
  },
  {
   "cell_type": "code",
   "execution_count": 191,
   "metadata": {},
   "outputs": [],
   "source": [
    "def max_s_avg(ls,n):\n",
    "    l=0\n",
    "    r=n\n",
    "    m=0\n",
    "    while r<=len(ls):\n",
    "        avg = sum(ls[l:r])/n\n",
    "        if avg>m:\n",
    "            m=avg\n",
    "        l+=1\n",
    "        r+=1\n",
    "    print(avg)"
   ]
  },
  {
   "cell_type": "code",
   "execution_count": 192,
   "metadata": {},
   "outputs": [
    {
     "name": "stdout",
     "output_type": "stream",
     "text": [
      "4.5\n"
     ]
    }
   ],
   "source": [
    "max_s_avg([1,2,3,4,5],2)"
   ]
  },
  {
   "cell_type": "markdown",
   "metadata": {},
   "source": [
    "### Reverse Prefix"
   ]
  },
  {
   "cell_type": "code",
   "execution_count": 201,
   "metadata": {},
   "outputs": [],
   "source": [
    "def rev_pref(s,c):\n",
    "    r=0\n",
    "    while s[r]!=c:\n",
    "        r+=1\n",
    "    print(s[:r+1][::-1]+s[r+1:])"
   ]
  },
  {
   "cell_type": "code",
   "execution_count": 202,
   "metadata": {},
   "outputs": [
    {
     "name": "stdout",
     "output_type": "stream",
     "text": [
      "dbcaefd\n"
     ]
    }
   ],
   "source": [
    "rev_pref(\"acbdefd\",\"d\")"
   ]
  },
  {
   "cell_type": "markdown",
   "metadata": {},
   "source": [
    "### Min max avg"
   ]
  },
  {
   "cell_type": "code",
   "execution_count": 213,
   "metadata": {},
   "outputs": [],
   "source": [
    "def min_max_avg(ls):\n",
    "    l=0\n",
    "    r=len(ls)-1\n",
    "    ls.sort()\n",
    "    m=100000\n",
    "    while l<=r:\n",
    "        avg = (ls[l]+ls[r])/2\n",
    "        print(ls[l],ls[r])\n",
    "        m = min(avg,m)\n",
    "        l+=1\n",
    "        r-=1\n",
    "    return(m)"
   ]
  },
  {
   "cell_type": "code",
   "execution_count": 214,
   "metadata": {},
   "outputs": [
    {
     "name": "stdout",
     "output_type": "stream",
     "text": [
      "1 5\n",
      "2 4\n",
      "3 3\n",
      "3.0\n"
     ]
    }
   ],
   "source": [
    "print(min_max_avg([1,2,3,4,5]))"
   ]
  },
  {
   "cell_type": "markdown",
   "metadata": {},
   "source": [
    "### Reverse only chars"
   ]
  },
  {
   "cell_type": "code",
   "execution_count": 223,
   "metadata": {},
   "outputs": [],
   "source": [
    "def reverse_only(s):\n",
    "    s=list(s)\n",
    "    l=0\n",
    "    r=len(s)-1\n",
    "    while l<r:\n",
    "        if s[l].isalpha() and s[r].isalpha():\n",
    "            s[l],s[r]=s[r],s[l]\n",
    "            l+=1\n",
    "            r-=1\n",
    "        if not s[l].isalpha():\n",
    "            l+=1\n",
    "        if not s[r].isalpha():\n",
    "            r-=1\n",
    "    print(\"\".join(s))"
   ]
  },
  {
   "cell_type": "code",
   "execution_count": 224,
   "metadata": {},
   "outputs": [
    {
     "name": "stdout",
     "output_type": "stream",
     "text": [
      "fed-cb-a\n"
     ]
    }
   ],
   "source": [
    "reverse_only(\"abc-de-f\")"
   ]
  },
  {
   "cell_type": "markdown",
   "metadata": {},
   "source": [
    "### First palindrome"
   ]
  },
  {
   "cell_type": "code",
   "execution_count": 227,
   "metadata": {},
   "outputs": [],
   "source": [
    "def first_pal(l):\n",
    "    def is_pal(s):\n",
    "        return s == s[::-1]\n",
    "    return next((s for i, s in enumerate(l) if is_pal(s)), None)"
   ]
  },
  {
   "cell_type": "code",
   "execution_count": 229,
   "metadata": {},
   "outputs": [
    {
     "name": "stdout",
     "output_type": "stream",
     "text": [
      "aaa\n"
     ]
    }
   ],
   "source": [
    "print(first_pal(['cad','aaa','racecar']))"
   ]
  },
  {
   "cell_type": "markdown",
   "metadata": {},
   "source": [
    "### Move zeros"
   ]
  },
  {
   "cell_type": "code",
   "execution_count": 267,
   "metadata": {},
   "outputs": [],
   "source": [
    "def move_zeros(ls):\n",
    "    l=0\n",
    "    for i in range(len(ls)):\n",
    "        if ls[i]!=0:\n",
    "            ls[l],ls[i]=ls[i],ls[l]\n",
    "            l+=1\n",
    "    return ls"
   ]
  },
  {
   "cell_type": "code",
   "execution_count": 268,
   "metadata": {},
   "outputs": [
    {
     "name": "stdout",
     "output_type": "stream",
     "text": [
      "[1, 2, 2, 1, 0, 0, 0, 0]\n"
     ]
    }
   ],
   "source": [
    "print(move_zeros([0,1,2,0,0,0,2,1]))"
   ]
  },
  {
   "cell_type": "markdown",
   "metadata": {},
   "source": [
    "## Start/End Pointers"
   ]
  },
  {
   "cell_type": "markdown",
   "metadata": {},
   "source": [
    "### Trapping rain water"
   ]
  },
  {
   "cell_type": "code",
   "execution_count": 31,
   "metadata": {},
   "outputs": [],
   "source": [
    "def trap_rain_water(ls):\n",
    "    if not ls: \n",
    "        return 0\n",
    "    l=0\n",
    "    r=len(ls)-1\n",
    "    max_left=0\n",
    "    max_right=0\n",
    "    res=0\n",
    "    while l<=r:\n",
    "        print(f\"current left {ls[l]}, current right {ls[r]}\")\n",
    "        if ls[l]<ls[r]:\n",
    "            print(f\"max_left {max_left}, current left {ls[l]}\")\n",
    "            if ls[l]>=max_left:\n",
    "                max_left=ls[l]\n",
    "            print(f\"max_left updated {max_left}\")\n",
    "            res+=max_left-ls[l]\n",
    "            print(f\"current result {res}\")\n",
    "            l+=1\n",
    "        else:\n",
    "            print(f\"max_right {max_right}, current right {ls[r]}\")\n",
    "            if ls[r]>=max_right:\n",
    "                max_right=ls[r]\n",
    "            print(f\"max_right updated {max_right}\")\n",
    "            res+=max_right-ls[r]\n",
    "            print(f\"current result {res}\")\n",
    "            r-=1\n",
    "    return res\n"
   ]
  },
  {
   "cell_type": "code",
   "execution_count": 32,
   "metadata": {},
   "outputs": [
    {
     "name": "stdout",
     "output_type": "stream",
     "text": [
      "current left 4, current right 5\n",
      "max_left 0, current left 4\n",
      "max_left updated 4\n",
      "current result 0\n",
      "current left 2, current right 5\n",
      "max_left 4, current left 2\n",
      "max_left updated 4\n",
      "current result 2\n",
      "current left 0, current right 5\n",
      "max_left 4, current left 0\n",
      "max_left updated 4\n",
      "current result 6\n",
      "current left 3, current right 5\n",
      "max_left 4, current left 3\n",
      "max_left updated 4\n",
      "current result 7\n",
      "current left 2, current right 5\n",
      "max_left 4, current left 2\n",
      "max_left updated 4\n",
      "current result 9\n",
      "current left 5, current right 5\n",
      "max_right 0, current right 5\n",
      "max_right updated 5\n",
      "current result 9\n"
     ]
    },
    {
     "data": {
      "text/plain": [
       "9"
      ]
     },
     "execution_count": 32,
     "metadata": {},
     "output_type": "execute_result"
    }
   ],
   "source": [
    "trap_rain_water([4,2,0,3,2,5])"
   ]
  }
 ],
 "metadata": {
  "kernelspec": {
   "display_name": "Python 3",
   "language": "python",
   "name": "python3"
  },
  "language_info": {
   "codemirror_mode": {
    "name": "ipython",
    "version": 3
   },
   "file_extension": ".py",
   "mimetype": "text/x-python",
   "name": "python",
   "nbconvert_exporter": "python",
   "pygments_lexer": "ipython3",
   "version": "3.10.4"
  }
 },
 "nbformat": 4,
 "nbformat_minor": 2
}
