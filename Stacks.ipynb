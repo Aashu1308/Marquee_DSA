{
 "cells": [
  {
   "cell_type": "markdown",
   "metadata": {},
   "source": [
    "## Stack"
   ]
  },
  {
   "cell_type": "markdown",
   "metadata": {},
   "source": [
    "### Stack using array"
   ]
  },
  {
   "cell_type": "code",
   "execution_count": 16,
   "metadata": {},
   "outputs": [],
   "source": [
    "class Stack:\n",
    "    def __init__(self,size):\n",
    "        self.max=size\n",
    "        self.head=None\n",
    "        self.data=[]\n",
    "        self.size=0\n",
    "    \n",
    "    def is_empty(self):\n",
    "        return self.size==0\n",
    "    \n",
    "    def is_full(self):\n",
    "        return self.size==self.max\n",
    "\n",
    "    def push(self,x):\n",
    "        if self.is_full():\n",
    "            print(\"overflow\")\n",
    "            return\n",
    "        self.data.append(x)\n",
    "        self.size+=1\n",
    "        self.head=self.data[self.size-1]\n",
    "    \n",
    "    def pop(self):\n",
    "        if self.is_empty():\n",
    "            print(\"underflow\")\n",
    "            return\n",
    "        o=self.data.pop()\n",
    "        self.size-=1\n",
    "        if self.size:\n",
    "            self.head=self.data[self.size-1]\n",
    "        else:\n",
    "            self.head=0\n",
    "        return o\n",
    "\n",
    "    def peek(self):\n",
    "        if self.is_empty():\n",
    "            return \"underflow\"\n",
    "        return self.head\n",
    "    \n",
    "    def display(self):\n",
    "        if self.is_empty():\n",
    "            print(\"stack is empty\")\n",
    "            return\n",
    "        for i in self.data:\n",
    "            print(i,end=\" \")"
   ]
  },
  {
   "cell_type": "code",
   "execution_count": 20,
   "metadata": {},
   "outputs": [
    {
     "name": "stdout",
     "output_type": "stream",
     "text": [
      "1 \n",
      "1 2 \n",
      "1 2 3 \n",
      "Is full? True\n",
      "Popping an element: 3\n",
      "1 2 \n",
      "Peaking: 2\n",
      "Is empty? False\n"
     ]
    }
   ],
   "source": [
    "n=int(input(\"Enter size of stack:\"))\n",
    "s=Stack(n)\n",
    "for i in range(n):\n",
    "    s.push(int(input(\"Enter value\")))\n",
    "    s.display()\n",
    "    print()\n",
    "print(\"Is full?\",s.is_full())\n",
    "print(\"Popping an element:\",s.pop())\n",
    "s.display()\n",
    "print()\n",
    "print(\"Peaking:\",s.peek())\n",
    "print(\"Is empty?\",s.is_empty())\n"
   ]
  },
  {
   "cell_type": "markdown",
   "metadata": {},
   "source": [
    "## Leetcode"
   ]
  },
  {
   "cell_type": "markdown",
   "metadata": {},
   "source": [
    "### Valid Paranthesis"
   ]
  },
  {
   "cell_type": "code",
   "execution_count": 25,
   "metadata": {},
   "outputs": [],
   "source": [
    "def valid_paranthesis(s):\n",
    "    stack=[]\n",
    "    for i in s:\n",
    "        if i in ['(','{','[']:\n",
    "            stack.append(i)\n",
    "        else:\n",
    "            if stack==[]:\n",
    "                return False\n",
    "            stack.pop()\n",
    "    return stack==[]"
   ]
  },
  {
   "cell_type": "code",
   "execution_count": 28,
   "metadata": {},
   "outputs": [
    {
     "data": {
      "text/plain": [
       "True"
      ]
     },
     "execution_count": 28,
     "metadata": {},
     "output_type": "execute_result"
    }
   ],
   "source": [
    "valid_paranthesis(\"((}}\")"
   ]
  },
  {
   "cell_type": "markdown",
   "metadata": {},
   "source": [
    "### Max depth"
   ]
  },
  {
   "cell_type": "code",
   "execution_count": 33,
   "metadata": {},
   "outputs": [],
   "source": [
    "def max_depth(s):\n",
    "    stack=[]\n",
    "    mx=0\n",
    "    for i in s:\n",
    "        if i=='(':\n",
    "            stack.append(i)\n",
    "            mx=max(len(stack),mx)\n",
    "        elif i==')':\n",
    "            stack.pop()\n",
    "    mx=max(len(stack),mx)\n",
    "    return mx"
   ]
  },
  {
   "cell_type": "code",
   "execution_count": 35,
   "metadata": {},
   "outputs": [
    {
     "data": {
      "text/plain": [
       "3"
      ]
     },
     "execution_count": 35,
     "metadata": {},
     "output_type": "execute_result"
    }
   ],
   "source": [
    "max_depth(\"(1)+((2))+(((3)))\")"
   ]
  },
  {
   "cell_type": "markdown",
   "metadata": {},
   "source": [
    "### Reverse string within paranthesis"
   ]
  },
  {
   "cell_type": "code",
   "execution_count": 134,
   "metadata": {},
   "outputs": [],
   "source": [
    "# def reverse_paranthesis_substring(s):\n",
    "#     oc=-1\n",
    "#     l=[\"\" for _ in range(len(s))]\n",
    "#     ss=\"\"\n",
    "#     for i in s:\n",
    "#         # print(\"current char:\",i,\"open count:\",oc)\n",
    "#         if i=='(':\n",
    "#             oc+=1\n",
    "#             l[oc-1]+=ss\n",
    "#             ss=\"\"\n",
    "#         elif i==')':\n",
    "#             c=l[oc-1]\n",
    "#             # print(c)\n",
    "#             ss= c+ss[::-1]\n",
    "#             # print(ss)\n",
    "#             l[oc-1]=ss\n",
    "#             oc-=1\n",
    "#         else:\n",
    "#             ss+=i\n",
    "#         # print(l)\n",
    "#     print(ss)\n",
    "def reverse_paranthesis_substring(s):\n",
    "    l=[]\n",
    "    ss=\"\"\n",
    "    for i in s:\n",
    "        # print(\"current char:\",i,\"open count:\",oc)\n",
    "        if i=='(':\n",
    "            l.append(ss)\n",
    "            ss=\"\"\n",
    "        elif i==')':\n",
    "            ss=l.pop()+ss[::-1]\n",
    "        else:\n",
    "            ss+=i\n",
    "        # print(l)\n",
    "    print(ss)"
   ]
  },
  {
   "cell_type": "code",
   "execution_count": 136,
   "metadata": {},
   "outputs": [
    {
     "name": "stdout",
     "output_type": "stream",
     "text": [
      "leetcode\n",
      "dcba\n",
      "iloveu\n",
      "apmnolkjihgfedcbq\n",
      "tauswa\n"
     ]
    }
   ],
   "source": [
    "reverse_paranthesis_substring(\"(ed(et(oc))el)\")\n",
    "reverse_paranthesis_substring(\"(abcd)\")\n",
    "reverse_paranthesis_substring(\"(u(love)i)\")\n",
    "reverse_paranthesis_substring(\"a(bcdefghijkl(mno)p)q\")\n",
    "reverse_paranthesis_substring(\"ta()usw((((a))))\")"
   ]
  },
  {
   "cell_type": "markdown",
   "metadata": {},
   "source": [
    "### Scoring -> ():1 (a):2*score(a) ab:score(a)+score(b)"
   ]
  },
  {
   "cell_type": "code",
   "execution_count": 148,
   "metadata": {},
   "outputs": [],
   "source": [
    "def scoring(s):\n",
    "    l=[]\n",
    "    sc=0\n",
    "    for i in range(len(s)):\n",
    "        print(\"current\",s[i])\n",
    "        if s[i]=='(':\n",
    "            l.append(sc)\n",
    "            sc=0\n",
    "            print(\"stack\",l,\"score\",sc)\n",
    "        else:\n",
    "            sc=l[-1]+max(2*sc,1)\n",
    "            l.pop()\n",
    "            print(\"stack\",l,\"score\",sc)\n",
    "    return sc\n"
   ]
  },
  {
   "cell_type": "code",
   "execution_count": 149,
   "metadata": {},
   "outputs": [
    {
     "name": "stdout",
     "output_type": "stream",
     "text": [
      "current (\n",
      "stack [0] score 0\n",
      "current (\n",
      "stack [0, 0] score 0\n",
      "current )\n",
      "stack [0] score 1\n",
      "current (\n",
      "stack [0, 1] score 0\n",
      "current )\n",
      "stack [0] score 2\n",
      "current )\n",
      "stack [] score 4\n",
      "current (\n",
      "stack [4] score 0\n",
      "current )\n",
      "stack [] score 5\n",
      "current (\n",
      "stack [5] score 0\n",
      "current )\n",
      "stack [] score 6\n"
     ]
    },
    {
     "data": {
      "text/plain": [
       "6"
      ]
     },
     "execution_count": 149,
     "metadata": {},
     "output_type": "execute_result"
    }
   ],
   "source": [
    "scoring(\"(()())()()\")"
   ]
  }
 ],
 "metadata": {
  "kernelspec": {
   "display_name": "Python 3",
   "language": "python",
   "name": "python3"
  },
  "language_info": {
   "codemirror_mode": {
    "name": "ipython",
    "version": 3
   },
   "file_extension": ".py",
   "mimetype": "text/x-python",
   "name": "python",
   "nbconvert_exporter": "python",
   "pygments_lexer": "ipython3",
   "version": "3.10.4"
  }
 },
 "nbformat": 4,
 "nbformat_minor": 2
}
